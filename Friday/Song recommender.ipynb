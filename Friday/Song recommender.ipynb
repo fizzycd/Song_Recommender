{
 "cells": [
  {
   "cell_type": "code",
   "execution_count": 2,
   "id": "d4d373dd",
   "metadata": {},
   "outputs": [],
   "source": [
    "import numpy as np\n",
    "import pandas as pd\n",
    "import pickle\n",
    "from sklearn import datasets # sklearn comes with some toy datasets to practise\n",
    "from sklearn.preprocessing import StandardScaler\n",
    "from sklearn.cluster import KMeans\n",
    "from matplotlib import pyplot\n",
    "from sklearn.metrics import silhouette_score\n",
    "import random\n",
    "from IPython.display import IFrame"
   ]
  },
  {
   "cell_type": "code",
   "execution_count": 3,
   "id": "29ec25de",
   "metadata": {},
   "outputs": [],
   "source": [
    "import config\n",
    "import spotipy\n",
    "import json\n",
    "from spotipy.oauth2 import SpotifyClientCredentials"
   ]
  },
  {
   "cell_type": "code",
   "execution_count": 4,
   "id": "0283cfaa",
   "metadata": {},
   "outputs": [],
   "source": [
    "#Initialize SpotiPy with user credentias\n",
    "sp = spotipy.Spotify(auth_manager=SpotifyClientCredentials(client_id= config.client_id,\n",
    "                                                           client_secret= config.client_secret))"
   ]
  },
  {
   "cell_type": "markdown",
   "id": "17e12bbc",
   "metadata": {},
   "source": [
    "## importing song database"
   ]
  },
  {
   "cell_type": "code",
   "execution_count": 5,
   "id": "660813f9",
   "metadata": {},
   "outputs": [
    {
     "data": {
      "text/html": [
       "<div>\n",
       "<style scoped>\n",
       "    .dataframe tbody tr th:only-of-type {\n",
       "        vertical-align: middle;\n",
       "    }\n",
       "\n",
       "    .dataframe tbody tr th {\n",
       "        vertical-align: top;\n",
       "    }\n",
       "\n",
       "    .dataframe thead th {\n",
       "        text-align: right;\n",
       "    }\n",
       "</style>\n",
       "<table border=\"1\" class=\"dataframe\">\n",
       "  <thead>\n",
       "    <tr style=\"text-align: right;\">\n",
       "      <th></th>\n",
       "      <th>id</th>\n",
       "      <th>danceability</th>\n",
       "      <th>energy</th>\n",
       "      <th>key</th>\n",
       "      <th>loudness</th>\n",
       "      <th>mode</th>\n",
       "      <th>speechiness</th>\n",
       "      <th>acousticness</th>\n",
       "      <th>instrumentalness</th>\n",
       "      <th>liveness</th>\n",
       "      <th>valence</th>\n",
       "      <th>tempo</th>\n",
       "      <th>duration_ms</th>\n",
       "      <th>time_signature</th>\n",
       "    </tr>\n",
       "  </thead>\n",
       "  <tbody>\n",
       "    <tr>\n",
       "      <th>0</th>\n",
       "      <td>6ziqWx82jgkQYhyIALoraH</td>\n",
       "      <td>0.711</td>\n",
       "      <td>0.838</td>\n",
       "      <td>2</td>\n",
       "      <td>-7.985</td>\n",
       "      <td>1</td>\n",
       "      <td>0.0423</td>\n",
       "      <td>0.29200</td>\n",
       "      <td>0.927000</td>\n",
       "      <td>0.1460</td>\n",
       "      <td>0.2230</td>\n",
       "      <td>124.002</td>\n",
       "      <td>224274</td>\n",
       "      <td>4</td>\n",
       "    </tr>\n",
       "    <tr>\n",
       "      <th>1</th>\n",
       "      <td>62piGIpUTsY8HA7tdjfLS8</td>\n",
       "      <td>0.746</td>\n",
       "      <td>0.749</td>\n",
       "      <td>11</td>\n",
       "      <td>-10.482</td>\n",
       "      <td>0</td>\n",
       "      <td>0.0454</td>\n",
       "      <td>0.00567</td>\n",
       "      <td>0.366000</td>\n",
       "      <td>0.2280</td>\n",
       "      <td>0.0342</td>\n",
       "      <td>123.988</td>\n",
       "      <td>178064</td>\n",
       "      <td>4</td>\n",
       "    </tr>\n",
       "    <tr>\n",
       "      <th>2</th>\n",
       "      <td>2QlUkqLbDDxDpiMcW7OJrZ</td>\n",
       "      <td>0.544</td>\n",
       "      <td>0.872</td>\n",
       "      <td>5</td>\n",
       "      <td>-7.444</td>\n",
       "      <td>0</td>\n",
       "      <td>0.0339</td>\n",
       "      <td>0.00794</td>\n",
       "      <td>0.877000</td>\n",
       "      <td>0.1180</td>\n",
       "      <td>0.1820</td>\n",
       "      <td>123.033</td>\n",
       "      <td>265366</td>\n",
       "      <td>4</td>\n",
       "    </tr>\n",
       "    <tr>\n",
       "      <th>3</th>\n",
       "      <td>77FpsyFq4vGchrHovA8EyU</td>\n",
       "      <td>0.753</td>\n",
       "      <td>0.915</td>\n",
       "      <td>4</td>\n",
       "      <td>-8.609</td>\n",
       "      <td>0</td>\n",
       "      <td>0.0396</td>\n",
       "      <td>0.00104</td>\n",
       "      <td>0.883000</td>\n",
       "      <td>0.0608</td>\n",
       "      <td>0.1040</td>\n",
       "      <td>120.008</td>\n",
       "      <td>233662</td>\n",
       "      <td>4</td>\n",
       "    </tr>\n",
       "    <tr>\n",
       "      <th>4</th>\n",
       "      <td>3YDBOFmBEk19AS4t4gwpXq</td>\n",
       "      <td>0.685</td>\n",
       "      <td>0.810</td>\n",
       "      <td>2</td>\n",
       "      <td>-8.179</td>\n",
       "      <td>1</td>\n",
       "      <td>0.0366</td>\n",
       "      <td>0.00020</td>\n",
       "      <td>0.899000</td>\n",
       "      <td>0.0900</td>\n",
       "      <td>0.0869</td>\n",
       "      <td>123.994</td>\n",
       "      <td>435322</td>\n",
       "      <td>4</td>\n",
       "    </tr>\n",
       "    <tr>\n",
       "      <th>...</th>\n",
       "      <td>...</td>\n",
       "      <td>...</td>\n",
       "      <td>...</td>\n",
       "      <td>...</td>\n",
       "      <td>...</td>\n",
       "      <td>...</td>\n",
       "      <td>...</td>\n",
       "      <td>...</td>\n",
       "      <td>...</td>\n",
       "      <td>...</td>\n",
       "      <td>...</td>\n",
       "      <td>...</td>\n",
       "      <td>...</td>\n",
       "      <td>...</td>\n",
       "    </tr>\n",
       "    <tr>\n",
       "      <th>3013</th>\n",
       "      <td>5FvxRvrQ8qzKjBJ6ST9aiu</td>\n",
       "      <td>0.436</td>\n",
       "      <td>0.948</td>\n",
       "      <td>1</td>\n",
       "      <td>-5.515</td>\n",
       "      <td>0</td>\n",
       "      <td>0.0558</td>\n",
       "      <td>0.09740</td>\n",
       "      <td>0.003750</td>\n",
       "      <td>0.1400</td>\n",
       "      <td>0.6960</td>\n",
       "      <td>122.609</td>\n",
       "      <td>199136</td>\n",
       "      <td>4</td>\n",
       "    </tr>\n",
       "    <tr>\n",
       "      <th>3014</th>\n",
       "      <td>2giNwwft9s8E5Or8N0olgc</td>\n",
       "      <td>0.635</td>\n",
       "      <td>0.167</td>\n",
       "      <td>9</td>\n",
       "      <td>-21.117</td>\n",
       "      <td>0</td>\n",
       "      <td>0.6650</td>\n",
       "      <td>0.89300</td>\n",
       "      <td>0.000000</td>\n",
       "      <td>0.5010</td>\n",
       "      <td>0.7120</td>\n",
       "      <td>100.544</td>\n",
       "      <td>147694</td>\n",
       "      <td>3</td>\n",
       "    </tr>\n",
       "    <tr>\n",
       "      <th>3015</th>\n",
       "      <td>6Lgbf4b6c9fwz24eFEWONX</td>\n",
       "      <td>0.665</td>\n",
       "      <td>0.712</td>\n",
       "      <td>6</td>\n",
       "      <td>-6.841</td>\n",
       "      <td>0</td>\n",
       "      <td>0.0397</td>\n",
       "      <td>0.00115</td>\n",
       "      <td>0.000187</td>\n",
       "      <td>0.2700</td>\n",
       "      <td>0.4890</td>\n",
       "      <td>105.017</td>\n",
       "      <td>279318</td>\n",
       "      <td>4</td>\n",
       "    </tr>\n",
       "    <tr>\n",
       "      <th>3016</th>\n",
       "      <td>53XrsilgguJmmsEtDsj0yY</td>\n",
       "      <td>0.535</td>\n",
       "      <td>0.382</td>\n",
       "      <td>1</td>\n",
       "      <td>-18.760</td>\n",
       "      <td>1</td>\n",
       "      <td>0.6450</td>\n",
       "      <td>0.85200</td>\n",
       "      <td>0.000000</td>\n",
       "      <td>0.3110</td>\n",
       "      <td>0.6090</td>\n",
       "      <td>86.969</td>\n",
       "      <td>148073</td>\n",
       "      <td>4</td>\n",
       "    </tr>\n",
       "    <tr>\n",
       "      <th>3017</th>\n",
       "      <td>4Ut6UU8Yyihz1jCZWSCQpu</td>\n",
       "      <td>0.598</td>\n",
       "      <td>0.356</td>\n",
       "      <td>9</td>\n",
       "      <td>-18.009</td>\n",
       "      <td>1</td>\n",
       "      <td>0.8020</td>\n",
       "      <td>0.91200</td>\n",
       "      <td>0.000000</td>\n",
       "      <td>0.9130</td>\n",
       "      <td>0.8170</td>\n",
       "      <td>121.045</td>\n",
       "      <td>131907</td>\n",
       "      <td>3</td>\n",
       "    </tr>\n",
       "  </tbody>\n",
       "</table>\n",
       "<p>3018 rows × 14 columns</p>\n",
       "</div>"
      ],
      "text/plain": [
       "                          id  danceability  energy  key  loudness  mode  \\\n",
       "0     6ziqWx82jgkQYhyIALoraH         0.711   0.838    2    -7.985     1   \n",
       "1     62piGIpUTsY8HA7tdjfLS8         0.746   0.749   11   -10.482     0   \n",
       "2     2QlUkqLbDDxDpiMcW7OJrZ         0.544   0.872    5    -7.444     0   \n",
       "3     77FpsyFq4vGchrHovA8EyU         0.753   0.915    4    -8.609     0   \n",
       "4     3YDBOFmBEk19AS4t4gwpXq         0.685   0.810    2    -8.179     1   \n",
       "...                      ...           ...     ...  ...       ...   ...   \n",
       "3013  5FvxRvrQ8qzKjBJ6ST9aiu         0.436   0.948    1    -5.515     0   \n",
       "3014  2giNwwft9s8E5Or8N0olgc         0.635   0.167    9   -21.117     0   \n",
       "3015  6Lgbf4b6c9fwz24eFEWONX         0.665   0.712    6    -6.841     0   \n",
       "3016  53XrsilgguJmmsEtDsj0yY         0.535   0.382    1   -18.760     1   \n",
       "3017  4Ut6UU8Yyihz1jCZWSCQpu         0.598   0.356    9   -18.009     1   \n",
       "\n",
       "      speechiness  acousticness  instrumentalness  liveness  valence    tempo  \\\n",
       "0          0.0423       0.29200          0.927000    0.1460   0.2230  124.002   \n",
       "1          0.0454       0.00567          0.366000    0.2280   0.0342  123.988   \n",
       "2          0.0339       0.00794          0.877000    0.1180   0.1820  123.033   \n",
       "3          0.0396       0.00104          0.883000    0.0608   0.1040  120.008   \n",
       "4          0.0366       0.00020          0.899000    0.0900   0.0869  123.994   \n",
       "...           ...           ...               ...       ...      ...      ...   \n",
       "3013       0.0558       0.09740          0.003750    0.1400   0.6960  122.609   \n",
       "3014       0.6650       0.89300          0.000000    0.5010   0.7120  100.544   \n",
       "3015       0.0397       0.00115          0.000187    0.2700   0.4890  105.017   \n",
       "3016       0.6450       0.85200          0.000000    0.3110   0.6090   86.969   \n",
       "3017       0.8020       0.91200          0.000000    0.9130   0.8170  121.045   \n",
       "\n",
       "      duration_ms  time_signature  \n",
       "0          224274               4  \n",
       "1          178064               4  \n",
       "2          265366               4  \n",
       "3          233662               4  \n",
       "4          435322               4  \n",
       "...           ...             ...  \n",
       "3013       199136               4  \n",
       "3014       147694               3  \n",
       "3015       279318               4  \n",
       "3016       148073               4  \n",
       "3017       131907               3  \n",
       "\n",
       "[3018 rows x 14 columns]"
      ]
     },
     "execution_count": 5,
     "metadata": {},
     "output_type": "execute_result"
    }
   ],
   "source": [
    "df = pd.read_csv(\"library.csv\")\n",
    "df"
   ]
  },
  {
   "cell_type": "markdown",
   "id": "0e1de91f",
   "metadata": {},
   "source": [
    "# functions - scaling & clustering"
   ]
  },
  {
   "cell_type": "code",
   "execution_count": 6,
   "id": "3204efba",
   "metadata": {},
   "outputs": [],
   "source": [
    "def standard_scaling_transform(DataFrame: pd.DataFrame) -> pd.DataFrame: \n",
    "    \"\"\"takes a DataFrame as an input, transforms the data and returns a standardscaled DataFrame\"\"\"\n",
    "    numeric_columns = DataFrame.select_dtypes(include=np.number).columns\n",
    "    DataFrame[numeric_columns] = scaler.transform(DataFrame[numeric_columns])\n",
    "    return DataFrame"
   ]
  },
  {
   "cell_type": "code",
   "execution_count": 7,
   "id": "70d43675",
   "metadata": {},
   "outputs": [],
   "source": [
    "def cluster_predict(DataFrame: pd.DataFrame) -> np.ndarray:\n",
    "    \"\"\"takes a DataFrame as an input, predicts the numeric columns and returns the clusters\"\"\"\n",
    "    return kmeans.predict(DataFrame[DataFrame.select_dtypes(include=np.number).columns])"
   ]
  },
  {
   "cell_type": "markdown",
   "id": "0bfd00ab",
   "metadata": {},
   "source": [
    "## scaling"
   ]
  },
  {
   "cell_type": "code",
   "execution_count": 8,
   "id": "786b71a7",
   "metadata": {},
   "outputs": [],
   "source": [
    "numeric_columns = df.select_dtypes(include=np.number).columns\n",
    "\n",
    "scaler = StandardScaler()\n",
    "df[numeric_columns] = scaler.fit_transform(df[numeric_columns])\n",
    "scaled_df = df"
   ]
  },
  {
   "cell_type": "markdown",
   "id": "e1f08066",
   "metadata": {},
   "source": [
    "## finding the best amount of clusters (K)"
   ]
  },
  {
   "cell_type": "markdown",
   "id": "1974f3aa",
   "metadata": {},
   "source": [
    "## Elbow Method"
   ]
  },
  {
   "cell_type": "code",
   "execution_count": 9,
   "id": "b3e859fc",
   "metadata": {
    "scrolled": true
   },
   "outputs": [
    {
     "name": "stdout",
     "output_type": "stream",
     "text": [
      "Training a K-Means model with 2 clusters! \n",
      "\n",
      "Training a K-Means model with 3 clusters! \n",
      "\n",
      "Training a K-Means model with 4 clusters! \n",
      "\n",
      "Training a K-Means model with 5 clusters! \n",
      "\n",
      "Training a K-Means model with 6 clusters! \n",
      "\n",
      "Training a K-Means model with 7 clusters! \n",
      "\n",
      "Training a K-Means model with 8 clusters! \n",
      "\n",
      "Training a K-Means model with 9 clusters! \n",
      "\n",
      "Training a K-Means model with 10 clusters! \n",
      "\n",
      "Training a K-Means model with 11 clusters! \n",
      "\n",
      "Training a K-Means model with 12 clusters! \n",
      "\n",
      "Training a K-Means model with 13 clusters! \n",
      "\n",
      "Training a K-Means model with 14 clusters! \n",
      "\n",
      "Training a K-Means model with 15 clusters! \n",
      "\n",
      "Training a K-Means model with 16 clusters! \n",
      "\n",
      "Training a K-Means model with 17 clusters! \n",
      "\n",
      "Training a K-Means model with 18 clusters! \n",
      "\n",
      "Training a K-Means model with 19 clusters! \n",
      "\n",
      "Training a K-Means model with 20 clusters! \n",
      "\n"
     ]
    },
    {
     "data": {
      "text/plain": [
       "Text(0.5, 1.0, 'Elbow Method showing the optimal k')"
      ]
     },
     "execution_count": 9,
     "metadata": {},
     "output_type": "execute_result"
    },
    {
     "data": {
      "image/png": "[encoded data removed]",
      "text/plain": [
       "<Figure size 1600x800 with 1 Axes>"
      ]
     },
     "metadata": {},
     "output_type": "display_data"
    }
   ],
   "source": [
    "K = range(2, 21)\n",
    "inertia = []\n",
    "\n",
    "for k in K:\n",
    "    print(\"Training a K-Means model with {} clusters! \".format(k))\n",
    "    print()\n",
    "    kmeans3 = KMeans(n_clusters=k,\n",
    "                    random_state=1234)\n",
    "    kmeans3.fit(df[df.select_dtypes(include=np.number).columns])\n",
    "    inertia.append(kmeans3.inertia_)\n",
    "\n",
    "import numpy as np\n",
    "import matplotlib.pyplot as plt\n",
    "%matplotlib inline\n",
    "\n",
    "plt.figure(figsize=(16,8))\n",
    "plt.plot(K, inertia, 'bx-')\n",
    "plt.xlabel('k')\n",
    "plt.ylabel('inertia')\n",
    "plt.xticks(np.arange(min(K), max(K)+1, 1.0))\n",
    "plt.title('Elbow Method showing the optimal k')"
   ]
  },
  {
   "cell_type": "markdown",
   "id": "9a98e2c2",
   "metadata": {},
   "source": [
    "## Silhouette"
   ]
  },
  {
   "cell_type": "code",
   "execution_count": 10,
   "id": "28607908",
   "metadata": {},
   "outputs": [
    {
     "data": {
      "text/plain": [
       "Text(0.5, 1.0, 'Silhouette Method showing the optimal k')"
      ]
     },
     "execution_count": 10,
     "metadata": {},
     "output_type": "execute_result"
    },
    {
     "data": {
      "image/png": "[encoded data removed]",
      "text/plain": [
       "<Figure size 1600x800 with 1 Axes>"
      ]
     },
     "metadata": {},
     "output_type": "display_data"
    }
   ],
   "source": [
    "K = range(2, 20)\n",
    "silhouette = []\n",
    "\n",
    "for k in K:\n",
    "    kmeans4 = KMeans(n_clusters=k,\n",
    "                    random_state=1234)\n",
    "    kmeans4.fit(df[df.select_dtypes(include=np.number).columns])\n",
    "    \n",
    "    filename = \"kmeans_\" + str(k) + \".pickle\"\n",
    "    with open(filename, \"wb\") as f:\n",
    "        pickle.dump(kmeans4,f)\n",
    "    \n",
    "    silhouette.append(silhouette_score(df[df.select_dtypes(include=np.number).columns], kmeans4.predict(df[df.select_dtypes(include=np.number).columns])))\n",
    "\n",
    "\n",
    "plt.figure(figsize=(16,8))\n",
    "plt.plot(K, silhouette, 'bx-')\n",
    "plt.xlabel('k')\n",
    "plt.ylabel('silhouette score')\n",
    "plt.xticks(np.arange(min(K), max(K)+1, 1.0))\n",
    "plt.title('Silhouette Method showing the optimal k')"
   ]
  },
  {
   "cell_type": "markdown",
   "id": "ec0412c8",
   "metadata": {},
   "source": [
    "#### adjust the number of clusters in n_clusters"
   ]
  },
  {
   "cell_type": "code",
   "execution_count": 11,
   "id": "4c6a9dcb",
   "metadata": {},
   "outputs": [],
   "source": [
    "kmeans = KMeans(n_clusters=13, random_state=1234)"
   ]
  },
  {
   "cell_type": "markdown",
   "id": "ff1f4ce4",
   "metadata": {},
   "source": [
    "## fit and predict clusters"
   ]
  },
  {
   "cell_type": "code",
   "execution_count": 12,
   "id": "d554ed91",
   "metadata": {},
   "outputs": [
    {
     "data": {
      "text/plain": [
       "KMeans(n_clusters=13, random_state=1234)"
      ]
     },
     "execution_count": 12,
     "metadata": {},
     "output_type": "execute_result"
    }
   ],
   "source": [
    "kmeans.fit(scaled_df[scaled_df.select_dtypes(include=np.number).columns])"
   ]
  },
  {
   "cell_type": "code",
   "execution_count": 13,
   "id": "c0c3a117",
   "metadata": {},
   "outputs": [],
   "source": [
    "labels = cluster_predict(scaled_df)"
   ]
  },
  {
   "cell_type": "code",
   "execution_count": 14,
   "id": "8d1d0230",
   "metadata": {},
   "outputs": [
    {
     "data": {
      "text/plain": [
       "array([ 0,  1,  2,  3,  4,  5,  6,  7,  8,  9, 10, 11, 12], dtype=int32)"
      ]
     },
     "execution_count": 14,
     "metadata": {},
     "output_type": "execute_result"
    }
   ],
   "source": [
    "np.unique(labels)"
   ]
  },
  {
   "cell_type": "code",
   "execution_count": 15,
   "id": "8c54165d",
   "metadata": {},
   "outputs": [
    {
     "data": {
      "text/plain": [
       "0     212\n",
       "1     301\n",
       "2     229\n",
       "3     408\n",
       "4     364\n",
       "5     354\n",
       "6     236\n",
       "7     282\n",
       "8     145\n",
       "9      28\n",
       "10    247\n",
       "11    127\n",
       "12     85\n",
       "dtype: int64"
      ]
     },
     "execution_count": 15,
     "metadata": {},
     "output_type": "execute_result"
    }
   ],
   "source": [
    "# clusters overview\n",
    "pd.Series(labels).value_counts().sort_index()"
   ]
  },
  {
   "cell_type": "markdown",
   "id": "9b54dda6",
   "metadata": {},
   "source": [
    "## adding cluster column to the database DataFrame"
   ]
  },
  {
   "cell_type": "code",
   "execution_count": 16,
   "id": "42c9d4ee",
   "metadata": {
    "scrolled": true
   },
   "outputs": [
    {
     "data": {
      "text/html": [
       "<div>\n",
       "<style scoped>\n",
       "    .dataframe tbody tr th:only-of-type {\n",
       "        vertical-align: middle;\n",
       "    }\n",
       "\n",
       "    .dataframe tbody tr th {\n",
       "        vertical-align: top;\n",
       "    }\n",
       "\n",
       "    .dataframe thead th {\n",
       "        text-align: right;\n",
       "    }\n",
       "</style>\n",
       "<table border=\"1\" class=\"dataframe\">\n",
       "  <thead>\n",
       "    <tr style=\"text-align: right;\">\n",
       "      <th></th>\n",
       "      <th>id</th>\n",
       "      <th>danceability</th>\n",
       "      <th>...</th>\n",
       "      <th>time_signature</th>\n",
       "      <th>cluster</th>\n",
       "    </tr>\n",
       "  </thead>\n",
       "  <tbody>\n",
       "    <tr>\n",
       "      <th>0</th>\n",
       "      <td>6ziqWx82jgkQYhyIALoraH</td>\n",
       "      <td>0.555282</td>\n",
       "      <td>...</td>\n",
       "      <td>0.240315</td>\n",
       "      <td>5</td>\n",
       "    </tr>\n",
       "    <tr>\n",
       "      <th>1</th>\n",
       "      <td>62piGIpUTsY8HA7tdjfLS8</td>\n",
       "      <td>0.769612</td>\n",
       "      <td>...</td>\n",
       "      <td>0.240315</td>\n",
       "      <td>7</td>\n",
       "    </tr>\n",
       "    <tr>\n",
       "      <th>2</th>\n",
       "      <td>2QlUkqLbDDxDpiMcW7OJrZ</td>\n",
       "      <td>-0.467379</td>\n",
       "      <td>...</td>\n",
       "      <td>0.240315</td>\n",
       "      <td>1</td>\n",
       "    </tr>\n",
       "    <tr>\n",
       "      <th>3</th>\n",
       "      <td>77FpsyFq4vGchrHovA8EyU</td>\n",
       "      <td>0.812478</td>\n",
       "      <td>...</td>\n",
       "      <td>0.240315</td>\n",
       "      <td>1</td>\n",
       "    </tr>\n",
       "    <tr>\n",
       "      <th>4</th>\n",
       "      <td>3YDBOFmBEk19AS4t4gwpXq</td>\n",
       "      <td>0.396065</td>\n",
       "      <td>...</td>\n",
       "      <td>0.240315</td>\n",
       "      <td>12</td>\n",
       "    </tr>\n",
       "    <tr>\n",
       "      <th>...</th>\n",
       "      <td>...</td>\n",
       "      <td>...</td>\n",
       "      <td>...</td>\n",
       "      <td>...</td>\n",
       "      <td>...</td>\n",
       "    </tr>\n",
       "    <tr>\n",
       "      <th>3013</th>\n",
       "      <td>5FvxRvrQ8qzKjBJ6ST9aiu</td>\n",
       "      <td>-1.128740</td>\n",
       "      <td>...</td>\n",
       "      <td>0.240315</td>\n",
       "      <td>1</td>\n",
       "    </tr>\n",
       "    <tr>\n",
       "      <th>3014</th>\n",
       "      <td>2giNwwft9s8E5Or8N0olgc</td>\n",
       "      <td>0.089879</td>\n",
       "      <td>...</td>\n",
       "      <td>-2.235012</td>\n",
       "      <td>6</td>\n",
       "    </tr>\n",
       "    <tr>\n",
       "      <th>3015</th>\n",
       "      <td>6Lgbf4b6c9fwz24eFEWONX</td>\n",
       "      <td>0.273591</td>\n",
       "      <td>...</td>\n",
       "      <td>0.240315</td>\n",
       "      <td>1</td>\n",
       "    </tr>\n",
       "    <tr>\n",
       "      <th>3016</th>\n",
       "      <td>53XrsilgguJmmsEtDsj0yY</td>\n",
       "      <td>-0.522492</td>\n",
       "      <td>...</td>\n",
       "      <td>0.240315</td>\n",
       "      <td>6</td>\n",
       "    </tr>\n",
       "    <tr>\n",
       "      <th>3017</th>\n",
       "      <td>4Ut6UU8Yyihz1jCZWSCQpu</td>\n",
       "      <td>-0.136698</td>\n",
       "      <td>...</td>\n",
       "      <td>-2.235012</td>\n",
       "      <td>6</td>\n",
       "    </tr>\n",
       "  </tbody>\n",
       "</table>\n",
       "<p>3018 rows × 15 columns</p>\n",
       "</div>"
      ],
      "text/plain": [
       "                          id  danceability  ...  time_signature  cluster\n",
       "0     6ziqWx82jgkQYhyIALoraH      0.555282  ...        0.240315        5\n",
       "1     62piGIpUTsY8HA7tdjfLS8      0.769612  ...        0.240315        7\n",
       "2     2QlUkqLbDDxDpiMcW7OJrZ     -0.467379  ...        0.240315        1\n",
       "3     77FpsyFq4vGchrHovA8EyU      0.812478  ...        0.240315        1\n",
       "4     3YDBOFmBEk19AS4t4gwpXq      0.396065  ...        0.240315       12\n",
       "...                      ...           ...  ...             ...      ...\n",
       "3013  5FvxRvrQ8qzKjBJ6ST9aiu     -1.128740  ...        0.240315        1\n",
       "3014  2giNwwft9s8E5Or8N0olgc      0.089879  ...       -2.235012        6\n",
       "3015  6Lgbf4b6c9fwz24eFEWONX      0.273591  ...        0.240315        1\n",
       "3016  53XrsilgguJmmsEtDsj0yY     -0.522492  ...        0.240315        6\n",
       "3017  4Ut6UU8Yyihz1jCZWSCQpu     -0.136698  ...       -2.235012        6\n",
       "\n",
       "[3018 rows x 15 columns]"
      ]
     },
     "execution_count": 16,
     "metadata": {},
     "output_type": "execute_result"
    }
   ],
   "source": [
    "df[\"cluster\"] = labels\n",
    "pd.options.display.max_columns = 5 # reducing number of visible columns to see cluster column right away\n",
    "df"
   ]
  },
  {
   "cell_type": "code",
   "execution_count": 17,
   "id": "838532b3",
   "metadata": {},
   "outputs": [],
   "source": [
    "#setting number of columns back to 20\n",
    "pd.options.display.max_columns = 20 "
   ]
  },
  {
   "cell_type": "markdown",
   "id": "898765fe",
   "metadata": {},
   "source": [
    "## importing Top100 list"
   ]
  },
  {
   "cell_type": "code",
   "execution_count": 18,
   "id": "d1635a77",
   "metadata": {},
   "outputs": [
    {
     "data": {
      "text/html": [
       "<div>\n",
       "<style scoped>\n",
       "    .dataframe tbody tr th:only-of-type {\n",
       "        vertical-align: middle;\n",
       "    }\n",
       "\n",
       "    .dataframe tbody tr th {\n",
       "        vertical-align: top;\n",
       "    }\n",
       "\n",
       "    .dataframe thead th {\n",
       "        text-align: right;\n",
       "    }\n",
       "</style>\n",
       "<table border=\"1\" class=\"dataframe\">\n",
       "  <thead>\n",
       "    <tr style=\"text-align: right;\">\n",
       "      <th></th>\n",
       "      <th>title</th>\n",
       "      <th>artist</th>\n",
       "    </tr>\n",
       "  </thead>\n",
       "  <tbody>\n",
       "    <tr>\n",
       "      <th>0</th>\n",
       "      <td>Flowers</td>\n",
       "      <td>Miley Cyrus</td>\n",
       "    </tr>\n",
       "    <tr>\n",
       "      <th>1</th>\n",
       "      <td>Kill Bill</td>\n",
       "      <td>SZA</td>\n",
       "    </tr>\n",
       "    <tr>\n",
       "      <th>2</th>\n",
       "      <td>Last Night</td>\n",
       "      <td>Morgan Wallen</td>\n",
       "    </tr>\n",
       "    <tr>\n",
       "      <th>3</th>\n",
       "      <td>Unholy</td>\n",
       "      <td>Sam Smith &amp; Kim Petras</td>\n",
       "    </tr>\n",
       "    <tr>\n",
       "      <th>4</th>\n",
       "      <td>Creepin'</td>\n",
       "      <td>Metro Boomin, The Weeknd &amp; 21 Savage</td>\n",
       "    </tr>\n",
       "    <tr>\n",
       "      <th>...</th>\n",
       "      <td>...</td>\n",
       "      <td>...</td>\n",
       "    </tr>\n",
       "    <tr>\n",
       "      <th>95</th>\n",
       "      <td>Yandel 150</td>\n",
       "      <td>Yandel &amp; Feid</td>\n",
       "    </tr>\n",
       "    <tr>\n",
       "      <th>96</th>\n",
       "      <td>Heart To Heart</td>\n",
       "      <td>Mac DeMarco</td>\n",
       "    </tr>\n",
       "    <tr>\n",
       "      <th>97</th>\n",
       "      <td>Next Thing You Know</td>\n",
       "      <td>Jordan Davis</td>\n",
       "    </tr>\n",
       "    <tr>\n",
       "      <th>98</th>\n",
       "      <td>Never Gonna Not Dance Again</td>\n",
       "      <td>P!nk</td>\n",
       "    </tr>\n",
       "    <tr>\n",
       "      <th>99</th>\n",
       "      <td>Open Arms</td>\n",
       "      <td>SZA Featuring Travis Scott</td>\n",
       "    </tr>\n",
       "  </tbody>\n",
       "</table>\n",
       "<p>100 rows × 2 columns</p>\n",
       "</div>"
      ],
      "text/plain": [
       "                          title                                artist\n",
       "0                       Flowers                           Miley Cyrus\n",
       "1                     Kill Bill                                   SZA\n",
       "2                    Last Night                         Morgan Wallen\n",
       "3                        Unholy                Sam Smith & Kim Petras\n",
       "4                      Creepin'  Metro Boomin, The Weeknd & 21 Savage\n",
       "..                          ...                                   ...\n",
       "95                   Yandel 150                         Yandel & Feid\n",
       "96               Heart To Heart                           Mac DeMarco\n",
       "97          Next Thing You Know                          Jordan Davis\n",
       "98  Never Gonna Not Dance Again                                  P!nk\n",
       "99                    Open Arms            SZA Featuring Travis Scott\n",
       "\n",
       "[100 rows x 2 columns]"
      ]
     },
     "execution_count": 18,
     "metadata": {},
     "output_type": "execute_result"
    }
   ],
   "source": [
    "# import top100 DataFrame\n",
    "df100 = pd.read_csv('top100.csv')\n",
    "df100"
   ]
  },
  {
   "cell_type": "markdown",
   "id": "3e5c8413",
   "metadata": {},
   "source": [
    "## input functions"
   ]
  },
  {
   "cell_type": "code",
   "execution_count": 19,
   "id": "80f85328",
   "metadata": {},
   "outputs": [],
   "source": [
    "def title_input() -> str:\n",
    "    return input(f'Please put in a song title:\\n\\n')\n",
    "        "
   ]
  },
  {
   "cell_type": "code",
   "execution_count": 20,
   "id": "ecdac3a0",
   "metadata": {},
   "outputs": [],
   "source": [
    "def artist_input() -> str:\n",
    "    return input(f'Please put in an artist:\\n\\n')\n",
    "        "
   ]
  },
  {
   "cell_type": "markdown",
   "id": "f4ddff2c",
   "metadata": {},
   "source": [
    "## filtering if user_input is in Top100 or not"
   ]
  },
  {
   "cell_type": "code",
   "execution_count": 21,
   "id": "fd2cf0d8",
   "metadata": {},
   "outputs": [],
   "source": [
    "def check_title(df100: pd.DataFrame, song_input: str) -> bool:\n",
    "    \n",
    "    # creating list of songs\n",
    "    list_of_songs = list(df100['title'])\n",
    "    lower_list = [x.lower() for x in list_of_songs]\n",
    "    \n",
    "    while True:\n",
    "        title = song_input\n",
    "        \n",
    "        # not in top100\n",
    "        if (title.lower() not in lower_list):\n",
    "            return False\n",
    "        \n",
    "        # in top100\n",
    "        else:\n",
    "            return True"
   ]
  },
  {
   "cell_type": "code",
   "execution_count": 22,
   "id": "641be14d",
   "metadata": {},
   "outputs": [],
   "source": [
    "def check_artist(df100: pd.DataFrame,artist_input: str,song_input: str) -> bool:\n",
    "            # creating list of artists\n",
    "            df_mod = df100\n",
    "            df_mod['title'] = df_mod['title'].str.lower()\n",
    "            options = df_mod.loc[(df_mod['title'] == song_input.lower()),['artist']]\n",
    "            artist_list = options['artist'].tolist()\n",
    "            lower_artists = [x.lower() for x in artist_list]\n",
    "            \n",
    "            # in top100\n",
    "            if (artist_input.lower() in lower_artists):\n",
    "                return True\n",
    "            else:\n",
    "                return False"
   ]
  },
  {
   "cell_type": "markdown",
   "id": "7b322712",
   "metadata": {},
   "source": [
    "## finding the  track_id for title and artist combination"
   ]
  },
  {
   "cell_type": "code",
   "execution_count": 1,
   "id": "088d32b2",
   "metadata": {},
   "outputs": [],
   "source": [
    "def find_track_id(title:str, artist:str) -> str:\n",
    "    search_results = sp.search(q=(f'{artist} {title}'), limit=1,market=\"GB\")\n",
    "    track_id = search_results[\"tracks\"][\"items\"][0][\"id\"]\n",
    "    return track_id"
   ]
  },
  {
   "cell_type": "markdown",
   "id": "40f27ae3",
   "metadata": {},
   "source": [
    "## fetching audio features from a track_id and creating a dataframe"
   ]
  },
  {
   "cell_type": "code",
   "execution_count": null,
   "id": "5c86ee50",
   "metadata": {},
   "outputs": [],
   "source": [
    "def audio_features(track_id: str) -> list:\n",
    "    return sp.audio_features(track_id)"
   ]
  },
  {
   "cell_type": "code",
   "execution_count": null,
   "id": "80f8f5a0",
   "metadata": {},
   "outputs": [],
   "source": [
    "def features_df(audio_features: list) -> pd.DataFrame:\n",
    "    return pd.DataFrame(data=audio_features)"
   ]
  },
  {
   "cell_type": "markdown",
   "id": "7e121ab6",
   "metadata": {},
   "source": [
    "## recommending another Top100 song"
   ]
  },
  {
   "cell_type": "code",
   "execution_count": null,
   "id": "f2e1411b",
   "metadata": {},
   "outputs": [],
   "source": [
    "def next_100(df100: pd.DataFrame) -> tuple:\n",
    "    random_100_song_title = random.sample(list(df100['title']),k=1)\n",
    "    random_100_song_title = random_100_song_title[0]\n",
    "    options = df100.loc[(df100['title'] == random_100_song_title,['artist'])]\n",
    "    artist = options['artist'].tolist()\n",
    "    artist = artist[0]\n",
    "    return random_100_song_title,artist"
   ]
  },
  {
   "cell_type": "markdown",
   "id": "eee89b85",
   "metadata": {},
   "source": [
    "## recommending a random track_id from the same cluster as the user_input cluster"
   ]
  },
  {
   "cell_type": "code",
   "execution_count": null,
   "id": "2b20451f",
   "metadata": {},
   "outputs": [],
   "source": [
    "def random_rec(library_df: pd.DataFrame ,cluster_number: np.ndarray) -> str:\n",
    "    cluster_value = cluster_number[0]\n",
    "    target_cluster = library_df.loc[(library_df['cluster'] == cluster_value),['id']]\n",
    "\n",
    "    track_id_list = target_cluster['id'].tolist()\n",
    "    return random.choice(track_id_list)"
   ]
  },
  {
   "cell_type": "markdown",
   "id": "c8769ab6",
   "metadata": {},
   "source": [
    "## play and display functions"
   ]
  },
  {
   "cell_type": "code",
   "execution_count": null,
   "id": "9da10530",
   "metadata": {},
   "outputs": [],
   "source": [
    "def play_song(track_id: str): # returns a displayable IFrame to play a song \n",
    "    return IFrame(src=\"https://open.spotify.com/embed/track/\"+track_id,\n",
    "       width=\"320\",\n",
    "       height=\"80\",\n",
    "       frameborder=\"0\",\n",
    "       allowtransparency=\"true\",\n",
    "       allow=\"encrypted-media\",\n",
    "      )"
   ]
  },
  {
   "cell_type": "code",
   "execution_count": null,
   "id": "9c4fb77f",
   "metadata": {},
   "outputs": [],
   "source": [
    "def display_next_100(df100: pd.DataFrame):\n",
    "    unpack = next_100(df100)\n",
    "    display(play_song(find_track_id(str(unpack[0]),str(unpack[1]))))"
   ]
  },
  {
   "cell_type": "code",
   "execution_count": null,
   "id": "504bd3c3",
   "metadata": {},
   "outputs": [],
   "source": [
    "def user_song(song:str,artist:str): # displays an IFrame\n",
    "    display(play_song(find_track_id(song,artist)))"
   ]
  },
  {
   "cell_type": "code",
   "execution_count": null,
   "id": "a4ae998c",
   "metadata": {},
   "outputs": [],
   "source": [
    "def display_recommended_song(song:str,artist:str) -> np.ndarray:\n",
    "    print(f'\\nYou will now get a recommendation of the database that is similar to your choice:')\n",
    "    user_song_cluster = cluster_predict(standard_scaling_transform(features_df(audio_features(find_track_id(song,artist)))))\n",
    "    display(play_song(random_rec(df,user_song_cluster)))"
   ]
  },
  {
   "cell_type": "markdown",
   "id": "6439388c",
   "metadata": {},
   "source": [
    "## finished song recommender"
   ]
  },
  {
   "cell_type": "code",
   "execution_count": null,
   "id": "e0aed672",
   "metadata": {},
   "outputs": [],
   "source": [
    "def song_recommender():\n",
    "    song = title_input()\n",
    "    result = check_title(df100,song)\n",
    "    \n",
    "    # title in 100\n",
    "    if result == True:\n",
    "        print(f'\\nYour song might be in the Top100.\\nPlease state which artist you are referring to: \\n')\n",
    "        artist = artist_input()\n",
    "        \n",
    "        # title and artist in 100\n",
    "        if check_artist(df100,artist,song) == True:\n",
    "            \n",
    "            # display user song\n",
    "            print(f'\\nYour Song \"{song.title()}\" from artist \"{artist.title()}\" is in the Top100 :')\n",
    "            user_song(song,artist)\n",
    "            \n",
    "            #display different Top100 song\n",
    "            print(f'\\nYou will now get a recommendation of another song out of the Top100:')\n",
    "            display_next_100(df100)\n",
    "        \n",
    "        # title in but artist false\n",
    "        else:\n",
    "            # display user song\n",
    "            print(f'\\nYour combination of song title \"{song.title()}\" and artist \"{artist.title()}\" is not in the Top 100:')\n",
    "            user_song(song,artist)\n",
    "            \n",
    "            # display song recommendation\n",
    "            display_recommended_song(song,artist)\n",
    "    \n",
    "    #title not in 100        \n",
    "    else:\n",
    "        print(f\"\\n'{song.title()}' is not in the Top100.\\n\")\n",
    "        artist = artist_input()\n",
    "        \n",
    "        # display user song\n",
    "        print(f'\\nYour choice is \"{song.title()}\" from \"{artist.title()}\":')\n",
    "        user_song(song,artist)\n",
    "        \n",
    "        # display song recommendation\n",
    "        display_recommended_song(song,artist)      "
   ]
  },
  {
   "cell_type": "code",
   "execution_count": null,
   "id": "ef8dc151",
   "metadata": {},
   "outputs": [],
   "source": [
    "pd.options.display.max_rows = 100 # increasing visible rows so you can pick a song from the Top100 if you want to\n",
    "df100\n",
    "\n"
   ]
  },
  {
   "cell_type": "markdown",
   "id": "eb6a4b3c",
   "metadata": {},
   "source": [
    "## Have fun :)"
   ]
  },
  {
   "cell_type": "code",
   "execution_count": null,
   "id": "f1aff090",
   "metadata": {
    "scrolled": true
   },
   "outputs": [],
   "source": [
    "song_recommender()"
   ]
  },
  {
   "cell_type": "code",
   "execution_count": null,
   "id": "5e1da0c8",
   "metadata": {},
   "outputs": [],
   "source": [
    "pd.options.display.max_rows = 20 # decreasing visible rows back to normal"
   ]
  },
  {
   "cell_type": "code",
   "execution_count": null,
   "id": "d938c95b",
   "metadata": {},
   "outputs": [],
   "source": []
  },
  {
   "cell_type": "code",
   "execution_count": null,
   "id": "05de6ca2",
   "metadata": {},
   "outputs": [],
   "source": []
  }
 ],
 "metadata": {
  "kernelspec": {
   "display_name": "Python 3 (ipykernel)",
   "language": "python",
   "name": "python3"
  },
  "language_info": {
   "codemirror_mode": {
    "name": "ipython",
    "version": 3
   },
   "file_extension": ".py",
   "mimetype": "text/x-python",
   "name": "python",
   "nbconvert_exporter": "python",
   "pygments_lexer": "ipython3",
   "version": "3.9.13"
  }
 },
 "nbformat": 4,
 "nbformat_minor": 5
}
