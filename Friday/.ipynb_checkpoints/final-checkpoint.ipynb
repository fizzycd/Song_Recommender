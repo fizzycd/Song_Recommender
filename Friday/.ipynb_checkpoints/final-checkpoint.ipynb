{
 "cells": [
  {
   "cell_type": "code",
   "execution_count": null,
   "id": "d4d373dd",
   "metadata": {},
   "outputs": [],
   "source": [
    "import numpy as np\n",
    "import pandas as pd\n",
    "import pickle\n",
    "from sklearn import datasets # sklearn comes with some toy datasets to practise\n",
    "from sklearn.preprocessing import StandardScaler\n",
    "from sklearn.cluster import KMeans\n",
    "from matplotlib import pyplot\n",
    "from sklearn.metrics import silhouette_score\n",
    "import random\n",
    "from IPython.display import IFrame"
   ]
  },
  {
   "cell_type": "code",
   "execution_count": null,
   "id": "29ec25de",
   "metadata": {},
   "outputs": [],
   "source": [
    "import config\n",
    "import spotipy\n",
    "import json\n",
    "from spotipy.oauth2 import SpotifyClientCredentials"
   ]
  },
  {
   "cell_type": "code",
   "execution_count": null,
   "id": "0283cfaa",
   "metadata": {},
   "outputs": [],
   "source": [
    "#Initialize SpotiPy with user credentias\n",
    "sp = spotipy.Spotify(auth_manager=SpotifyClientCredentials(client_id= config.client_id,\n",
    "                                                           client_secret= config.client_secret))"
   ]
  },
  {
   "cell_type": "markdown",
   "id": "17e12bbc",
   "metadata": {},
   "source": [
    "## importing song database"
   ]
  },
  {
   "cell_type": "code",
   "execution_count": null,
   "id": "660813f9",
   "metadata": {},
   "outputs": [],
   "source": [
    "df = pd.read_csv(\"library.csv\")\n",
    "df"
   ]
  },
  {
   "cell_type": "markdown",
   "id": "0e1de91f",
   "metadata": {},
   "source": [
    "# functions - scaling & clustering"
   ]
  },
  {
   "cell_type": "code",
   "execution_count": null,
   "id": "3204efba",
   "metadata": {},
   "outputs": [],
   "source": [
    "def standard_scaling_transform(DataFrame: pd.DataFrame) -> pd.DataFrame: \n",
    "    \"\"\"takes a DataFrame as an input, transforms the data and returns a standardscaled DataFrame\"\"\"\n",
    "    numeric_columns = DataFrame.select_dtypes(include=np.number).columns\n",
    "    DataFrame[numeric_columns] = scaler.transform(DataFrame[numeric_columns])\n",
    "    return DataFrame"
   ]
  },
  {
   "cell_type": "code",
   "execution_count": null,
   "id": "70d43675",
   "metadata": {},
   "outputs": [],
   "source": [
    "def cluster_predict(DataFrame: pd.DataFrame) -> np.ndarray:\n",
    "    \"\"\"takes a DataFrame as an input, predicts the numeric columns and returns the clusters\"\"\"\n",
    "    return kmeans.predict(DataFrame[DataFrame.select_dtypes(include=np.number).columns])"
   ]
  },
  {
   "cell_type": "markdown",
   "id": "0bfd00ab",
   "metadata": {},
   "source": [
    "## scaling"
   ]
  },
  {
   "cell_type": "code",
   "execution_count": null,
   "id": "786b71a7",
   "metadata": {},
   "outputs": [],
   "source": [
    "numeric_columns = df.select_dtypes(include=np.number).columns\n",
    "\n",
    "scaler = StandardScaler()\n",
    "df[numeric_columns] = scaler.fit_transform(df[numeric_columns])\n",
    "scaled_df = df"
   ]
  },
  {
   "cell_type": "markdown",
   "id": "e1f08066",
   "metadata": {},
   "source": [
    "## finding the best amount of clusters (K)"
   ]
  },
  {
   "cell_type": "markdown",
   "id": "1974f3aa",
   "metadata": {},
   "source": [
    "## Elbow Method"
   ]
  },
  {
   "cell_type": "code",
   "execution_count": null,
   "id": "b3e859fc",
   "metadata": {
    "scrolled": true
   },
   "outputs": [],
   "source": [
    "K = range(2, 21)\n",
    "inertia = []\n",
    "\n",
    "for k in K:\n",
    "    print(\"Training a K-Means model with {} clusters! \".format(k))\n",
    "    print()\n",
    "    kmeans3 = KMeans(n_clusters=k,\n",
    "                    random_state=1234)\n",
    "    kmeans3.fit(df[df.select_dtypes(include=np.number).columns])\n",
    "    inertia.append(kmeans3.inertia_)\n",
    "\n",
    "import numpy as np\n",
    "import matplotlib.pyplot as plt\n",
    "%matplotlib inline\n",
    "\n",
    "plt.figure(figsize=(16,8))\n",
    "plt.plot(K, inertia, 'bx-')\n",
    "plt.xlabel('k')\n",
    "plt.ylabel('inertia')\n",
    "plt.xticks(np.arange(min(K), max(K)+1, 1.0))\n",
    "plt.title('Elbow Method showing the optimal k')"
   ]
  },
  {
   "cell_type": "markdown",
   "id": "9a98e2c2",
   "metadata": {},
   "source": [
    "## Silhouette"
   ]
  },
  {
   "cell_type": "code",
   "execution_count": null,
   "id": "28607908",
   "metadata": {},
   "outputs": [],
   "source": [
    "K = range(2, 20)\n",
    "silhouette = []\n",
    "\n",
    "for k in K:\n",
    "    kmeans4 = KMeans(n_clusters=k,\n",
    "                    random_state=1234)\n",
    "    kmeans4.fit(df[df.select_dtypes(include=np.number).columns])\n",
    "    \n",
    "    filename = \"kmeans_\" + str(k) + \".pickle\"\n",
    "    with open(filename, \"wb\") as f:\n",
    "        pickle.dump(kmeans4,f)\n",
    "    \n",
    "    silhouette.append(silhouette_score(df[df.select_dtypes(include=np.number).columns], kmeans4.predict(df[df.select_dtypes(include=np.number).columns])))\n",
    "\n",
    "\n",
    "plt.figure(figsize=(16,8))\n",
    "plt.plot(K, silhouette, 'bx-')\n",
    "plt.xlabel('k')\n",
    "plt.ylabel('silhouette score')\n",
    "plt.xticks(np.arange(min(K), max(K)+1, 1.0))\n",
    "plt.title('Silhouette Method showing the optimal k')"
   ]
  },
  {
   "cell_type": "markdown",
   "id": "ec0412c8",
   "metadata": {},
   "source": [
    "#### adjust the number of clusters in n_clusters"
   ]
  },
  {
   "cell_type": "code",
   "execution_count": null,
   "id": "4c6a9dcb",
   "metadata": {},
   "outputs": [],
   "source": [
    "kmeans = KMeans(n_clusters=13, random_state=1234)"
   ]
  },
  {
   "cell_type": "markdown",
   "id": "ff1f4ce4",
   "metadata": {},
   "source": [
    "## fit and predict clusters"
   ]
  },
  {
   "cell_type": "code",
   "execution_count": null,
   "id": "d554ed91",
   "metadata": {},
   "outputs": [],
   "source": [
    "kmeans.fit(scaled_df[scaled_df.select_dtypes(include=np.number).columns])"
   ]
  },
  {
   "cell_type": "code",
   "execution_count": null,
   "id": "c0c3a117",
   "metadata": {},
   "outputs": [],
   "source": [
    "labels = cluster_predict(scaled_df)"
   ]
  },
  {
   "cell_type": "code",
   "execution_count": null,
   "id": "8d1d0230",
   "metadata": {},
   "outputs": [],
   "source": [
    "np.unique(labels)"
   ]
  },
  {
   "cell_type": "code",
   "execution_count": null,
   "id": "8c54165d",
   "metadata": {},
   "outputs": [],
   "source": [
    "# clusters overview\n",
    "pd.Series(labels).value_counts().sort_index()"
   ]
  },
  {
   "cell_type": "markdown",
   "id": "9b54dda6",
   "metadata": {},
   "source": [
    "## adding cluster column to the database DataFrame"
   ]
  },
  {
   "cell_type": "code",
   "execution_count": null,
   "id": "42c9d4ee",
   "metadata": {
    "scrolled": true
   },
   "outputs": [],
   "source": [
    "df[\"cluster\"] = labels\n",
    "pd.options.display.max_columns = 5 # reducing number of visible columns to see cluster column right away\n",
    "df"
   ]
  },
  {
   "cell_type": "code",
   "execution_count": null,
   "id": "838532b3",
   "metadata": {},
   "outputs": [],
   "source": [
    "#setting number of columns back to 20\n",
    "pd.options.display.max_columns = 20 "
   ]
  },
  {
   "cell_type": "markdown",
   "id": "898765fe",
   "metadata": {},
   "source": [
    "## importing Top100 list"
   ]
  },
  {
   "cell_type": "code",
   "execution_count": null,
   "id": "d1635a77",
   "metadata": {},
   "outputs": [],
   "source": [
    "# import top100 DataFrame\n",
    "df100 = pd.read_csv('top100.csv')\n",
    "df100"
   ]
  },
  {
   "cell_type": "markdown",
   "id": "f4ddff2c",
   "metadata": {},
   "source": [
    "## filtering if user_input is in Top100 or not"
   ]
  },
  {
   "cell_type": "code",
   "execution_count": null,
   "id": "325503b6",
   "metadata": {},
   "outputs": [],
   "source": [
    "def check_top_100(df100: pd.DataFrame) -> list:\n",
    "    \n",
    "    # creating list of songs\n",
    "    list_of_songs = list(df100['title'])\n",
    "    lower_list = [x.lower() for x in list_of_songs]\n",
    "    \n",
    "    while True:\n",
    "        title = input(f'enter a song title:\\n ')\n",
    "        \n",
    "        # not in top100\n",
    "        if (title.lower() not in lower_list):\n",
    "            print(f'Your choice is not in the Top100.\\nYou will now get a recommendation of a song based on \"{title.title()}\".')\n",
    "            return [title.title(),0]\n",
    "        \n",
    "        # maybe in top100\n",
    "        else:\n",
    "            \n",
    "            # creating list of artists\n",
    "            df_mod = df100\n",
    "            df_mod['title'] = df_mod['title'].str.lower()\n",
    "            options = df_mod.loc[(df_mod['title'] == title.lower()),['artist']]\n",
    "            artist_list = options['artist'].tolist()\n",
    "            lower_artists = [x.lower() for x in artist_list]\n",
    "            \n",
    "            artist = input(f'\\nYour song might be in the Top100. Please state which artist you are referring to: \\n')\n",
    "            \n",
    "            # in top100\n",
    "            if (artist.lower() in lower_artists):\n",
    "                print('\\nYour Song is in the Top100 :).\\nYou will now get a recommendation of another song out of the Top100.')\n",
    "                next_100 = random.choice(list_of_songs)\n",
    "                \n",
    "                #avoiding recommending the same song instead of another random one\n",
    "                while next_100.lower() == title.lower():\n",
    "                    next_100 = random.choice(list_of_songs)\n",
    "                return [next_100.title(),1]\n",
    "            \n",
    "            # wrong artist, combination not in top100\n",
    "            else:\n",
    "                print(f'\\nYour combination of song title \"{title.title()}\" and artist \"{artist.title()}\" is not in the Top 100.\\nYou will now get a recommendation based on \"{title.title()}\".')\n",
    "                return [title.title(),0]\n",
    "                    "
   ]
  },
  {
   "cell_type": "markdown",
   "id": "7b322712",
   "metadata": {},
   "source": [
    "## finding the  track_id from user input"
   ]
  },
  {
   "cell_type": "code",
   "execution_count": null,
   "id": "088d32b2",
   "metadata": {},
   "outputs": [],
   "source": [
    "def find_track_id(song_title: list) -> str:\n",
    "    search_results = sp.search(q=song_title[0],limit=3)\n",
    "    track_id = search_results[\"tracks\"][\"items\"][0][\"id\"]\n",
    "    return track_id"
   ]
  },
  {
   "cell_type": "markdown",
   "id": "40f27ae3",
   "metadata": {},
   "source": [
    "## fetching audio features from a track_id and creating a dataframe"
   ]
  },
  {
   "cell_type": "code",
   "execution_count": null,
   "id": "5c86ee50",
   "metadata": {},
   "outputs": [],
   "source": [
    "def audio_features(track_id: str) -> list:\n",
    "    return sp.audio_features(track_id)"
   ]
  },
  {
   "cell_type": "code",
   "execution_count": null,
   "id": "80f8f5a0",
   "metadata": {},
   "outputs": [],
   "source": [
    "def features_df(audio_features: list) -> pd.DataFrame:\n",
    "    return pd.DataFrame(data=audio_features)"
   ]
  },
  {
   "cell_type": "markdown",
   "id": "eee89b85",
   "metadata": {},
   "source": [
    "## recommending a random track_id from the same cluster as the user_input cluster"
   ]
  },
  {
   "cell_type": "code",
   "execution_count": null,
   "id": "2b20451f",
   "metadata": {},
   "outputs": [],
   "source": [
    "def random_rec(library_df: pd.DataFrame ,cluster_number: np.ndarray) -> str:\n",
    "    cluster_value = cluster_number[0]\n",
    "    target_cluster = library_df.loc[(library_df['cluster'] == cluster_value),['id']]\n",
    "\n",
    "    track_id_list = target_cluster['id'].tolist()\n",
    "    return random.choice(track_id_list)"
   ]
  },
  {
   "cell_type": "code",
   "execution_count": null,
   "id": "5cf58b7c",
   "metadata": {},
   "outputs": [],
   "source": [
    "def play_song(track_id: str): # returns a displayable IFrame to play a song \n",
    "    return IFrame(src=\"https://open.spotify.com/embed/track/\"+track_id,\n",
    "       width=\"320\",\n",
    "       height=\"80\",\n",
    "       frameborder=\"0\",\n",
    "       allowtransparency=\"true\",\n",
    "       allow=\"encrypted-media\",\n",
    "      )"
   ]
  },
  {
   "cell_type": "markdown",
   "id": "6439388c",
   "metadata": {},
   "source": [
    "## finished song recommender"
   ]
  },
  {
   "cell_type": "code",
   "execution_count": null,
   "id": "9d044882",
   "metadata": {},
   "outputs": [],
   "source": [
    "def song_recommender():\n",
    "    song_choice = check_top_100(df100)\n",
    "    if song_choice[1] == 0:\n",
    "        track_ID = find_track_id(song_choice)\n",
    "     \n",
    "        user_song_cluster = cluster_predict(standard_scaling_transform(features_df(audio_features(track_ID))))\n",
    "        display(play_song(random_rec(df,user_song_cluster)))\n",
    "    else:\n",
    "        display(play_song(find_track_id(song_choice)))"
   ]
  },
  {
   "cell_type": "code",
   "execution_count": null,
   "id": "ef8dc151",
   "metadata": {
    "scrolled": true
   },
   "outputs": [],
   "source": [
    "pd.options.display.max_rows = 100 # increasing visible rows so you can pick a song from the Top100 if you want to\n",
    "df100\n",
    "\n"
   ]
  },
  {
   "cell_type": "markdown",
   "id": "eb6a4b3c",
   "metadata": {},
   "source": [
    "## Have fun :)"
   ]
  },
  {
   "cell_type": "code",
   "execution_count": null,
   "id": "f1aff090",
   "metadata": {},
   "outputs": [],
   "source": [
    "song_recommender()"
   ]
  },
  {
   "cell_type": "code",
   "execution_count": null,
   "id": "5e1da0c8",
   "metadata": {},
   "outputs": [],
   "source": [
    "pd.options.display.max_rows = 20 # decreasing visible rows back to normal"
   ]
  }
 ],
 "metadata": {
  "kernelspec": {
   "display_name": "Python 3 (ipykernel)",
   "language": "python",
   "name": "python3"
  },
  "language_info": {
   "codemirror_mode": {
    "name": "ipython",
    "version": 3
   },
   "file_extension": ".py",
   "mimetype": "text/x-python",
   "name": "python",
   "nbconvert_exporter": "python",
   "pygments_lexer": "ipython3",
   "version": "3.9.13"
  }
 },
 "nbformat": 4,
 "nbformat_minor": 5
}
