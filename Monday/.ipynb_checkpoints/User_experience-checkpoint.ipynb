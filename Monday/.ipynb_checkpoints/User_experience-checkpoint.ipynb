{
 "cells": [
  {
   "cell_type": "code",
   "execution_count": 1,
   "id": "da4d1c98",
   "metadata": {},
   "outputs": [],
   "source": [
    "import pandas as pd\n",
    "import numpy as np"
   ]
  },
  {
   "cell_type": "code",
   "execution_count": 2,
   "id": "c28b0f36",
   "metadata": {},
   "outputs": [],
   "source": [
    "df = pd.read_csv('top100.csv')"
   ]
  },
  {
   "cell_type": "code",
   "execution_count": 3,
   "id": "c0a3d2e8",
   "metadata": {
    "scrolled": true
   },
   "outputs": [
    {
     "data": {
      "text/html": [
       "<div>\n",
       "<style scoped>\n",
       "    .dataframe tbody tr th:only-of-type {\n",
       "        vertical-align: middle;\n",
       "    }\n",
       "\n",
       "    .dataframe tbody tr th {\n",
       "        vertical-align: top;\n",
       "    }\n",
       "\n",
       "    .dataframe thead th {\n",
       "        text-align: right;\n",
       "    }\n",
       "</style>\n",
       "<table border=\"1\" class=\"dataframe\">\n",
       "  <thead>\n",
       "    <tr style=\"text-align: right;\">\n",
       "      <th></th>\n",
       "      <th>title</th>\n",
       "      <th>artist</th>\n",
       "    </tr>\n",
       "  </thead>\n",
       "  <tbody>\n",
       "    <tr>\n",
       "      <th>0</th>\n",
       "      <td>Flowers</td>\n",
       "      <td>Miley Cyrus</td>\n",
       "    </tr>\n",
       "    <tr>\n",
       "      <th>1</th>\n",
       "      <td>Kill Bill</td>\n",
       "      <td>SZA</td>\n",
       "    </tr>\n",
       "    <tr>\n",
       "      <th>2</th>\n",
       "      <td>Last Night</td>\n",
       "      <td>Morgan Wallen</td>\n",
       "    </tr>\n",
       "    <tr>\n",
       "      <th>3</th>\n",
       "      <td>Unholy</td>\n",
       "      <td>Sam Smith &amp; Kim Petras</td>\n",
       "    </tr>\n",
       "    <tr>\n",
       "      <th>4</th>\n",
       "      <td>Creepin'</td>\n",
       "      <td>Metro Boomin, The Weeknd &amp; 21 Savage</td>\n",
       "    </tr>\n",
       "    <tr>\n",
       "      <th>...</th>\n",
       "      <td>...</td>\n",
       "      <td>...</td>\n",
       "    </tr>\n",
       "    <tr>\n",
       "      <th>95</th>\n",
       "      <td>Yandel 150</td>\n",
       "      <td>Yandel &amp; Feid</td>\n",
       "    </tr>\n",
       "    <tr>\n",
       "      <th>96</th>\n",
       "      <td>Heart To Heart</td>\n",
       "      <td>Mac DeMarco</td>\n",
       "    </tr>\n",
       "    <tr>\n",
       "      <th>97</th>\n",
       "      <td>Next Thing You Know</td>\n",
       "      <td>Jordan Davis</td>\n",
       "    </tr>\n",
       "    <tr>\n",
       "      <th>98</th>\n",
       "      <td>Never Gonna Not Dance Again</td>\n",
       "      <td>P!nk</td>\n",
       "    </tr>\n",
       "    <tr>\n",
       "      <th>99</th>\n",
       "      <td>Open Arms</td>\n",
       "      <td>SZA Featuring Travis Scott</td>\n",
       "    </tr>\n",
       "  </tbody>\n",
       "</table>\n",
       "<p>100 rows × 2 columns</p>\n",
       "</div>"
      ],
      "text/plain": [
       "                          title                                artist\n",
       "0                       Flowers                           Miley Cyrus\n",
       "1                     Kill Bill                                   SZA\n",
       "2                    Last Night                         Morgan Wallen\n",
       "3                        Unholy                Sam Smith & Kim Petras\n",
       "4                      Creepin'  Metro Boomin, The Weeknd & 21 Savage\n",
       "..                          ...                                   ...\n",
       "95                   Yandel 150                         Yandel & Feid\n",
       "96               Heart To Heart                           Mac DeMarco\n",
       "97          Next Thing You Know                          Jordan Davis\n",
       "98  Never Gonna Not Dance Again                                  P!nk\n",
       "99                    Open Arms            SZA Featuring Travis Scott\n",
       "\n",
       "[100 rows x 2 columns]"
      ]
     },
     "execution_count": 3,
     "metadata": {},
     "output_type": "execute_result"
    }
   ],
   "source": [
    "df"
   ]
  },
  {
   "cell_type": "markdown",
   "id": "03e1db65",
   "metadata": {},
   "source": [
    "# Creating test DF to understand .loc[]"
   ]
  },
  {
   "cell_type": "code",
   "execution_count": 4,
   "id": "85185118",
   "metadata": {
    "scrolled": false
   },
   "outputs": [
    {
     "data": {
      "text/html": [
       "<div>\n",
       "<style scoped>\n",
       "    .dataframe tbody tr th:only-of-type {\n",
       "        vertical-align: middle;\n",
       "    }\n",
       "\n",
       "    .dataframe tbody tr th {\n",
       "        vertical-align: top;\n",
       "    }\n",
       "\n",
       "    .dataframe thead th {\n",
       "        text-align: right;\n",
       "    }\n",
       "</style>\n",
       "<table border=\"1\" class=\"dataframe\">\n",
       "  <thead>\n",
       "    <tr style=\"text-align: right;\">\n",
       "      <th></th>\n",
       "      <th>title</th>\n",
       "      <th>artist</th>\n",
       "    </tr>\n",
       "  </thead>\n",
       "  <tbody>\n",
       "    <tr>\n",
       "      <th>0</th>\n",
       "      <td>Flowers</td>\n",
       "      <td>Test</td>\n",
       "    </tr>\n",
       "    <tr>\n",
       "      <th>1</th>\n",
       "      <td>Flowers</td>\n",
       "      <td>Miley Cyrus</td>\n",
       "    </tr>\n",
       "    <tr>\n",
       "      <th>2</th>\n",
       "      <td>Kill Bill</td>\n",
       "      <td>SZA</td>\n",
       "    </tr>\n",
       "    <tr>\n",
       "      <th>3</th>\n",
       "      <td>Last Night</td>\n",
       "      <td>Morgan Wallen</td>\n",
       "    </tr>\n",
       "    <tr>\n",
       "      <th>4</th>\n",
       "      <td>Unholy</td>\n",
       "      <td>Sam Smith &amp; Kim Petras</td>\n",
       "    </tr>\n",
       "    <tr>\n",
       "      <th>5</th>\n",
       "      <td>Creepin'</td>\n",
       "      <td>Metro Boomin, The Weeknd &amp; 21 Savage</td>\n",
       "    </tr>\n",
       "  </tbody>\n",
       "</table>\n",
       "</div>"
      ],
      "text/plain": [
       "        title                                artist\n",
       "0     Flowers                                  Test\n",
       "1     Flowers                           Miley Cyrus\n",
       "2   Kill Bill                                   SZA\n",
       "3  Last Night                         Morgan Wallen\n",
       "4      Unholy                Sam Smith & Kim Petras\n",
       "5    Creepin'  Metro Boomin, The Weeknd & 21 Savage"
      ]
     },
     "execution_count": 4,
     "metadata": {},
     "output_type": "execute_result"
    }
   ],
   "source": [
    "new_rows = pd.DataFrame({'title':['Flowers'],'artist':['Test']})\n",
    "dft = pd.concat([new_rows,df.loc[:]]).reset_index(drop=True)\n",
    "dft = dft.loc[:5]\n",
    "dft"
   ]
  },
  {
   "cell_type": "code",
   "execution_count": 5,
   "id": "b1a34ab4",
   "metadata": {},
   "outputs": [
    {
     "name": "stdout",
     "output_type": "stream",
     "text": [
      " Please pick the artist that sang your song: ['Test', 'Miley Cyrus']\n"
     ]
    }
   ],
   "source": [
    "dft_list = dft.loc[(dft['title'] == 'Flowers'),['artist']]\n",
    "dft_list = dft_list['artist'].tolist()\n",
    "print(f' Please pick the artist that sang your song: {dft_list}')"
   ]
  },
  {
   "cell_type": "code",
   "execution_count": 7,
   "id": "d7a20326",
   "metadata": {},
   "outputs": [],
   "source": [
    " #choice = df.loc[(dft['title'] == prompt.title()),['artist']]\n",
    "           #     choice = choice['artist'].tolist()\n",
    "            #    print(f' Please pick the artist that sang your song: {choice}')"
   ]
  },
  {
   "cell_type": "code",
   "execution_count": 8,
   "id": "7cd51aac",
   "metadata": {},
   "outputs": [],
   "source": [
    "#df.loc[df['title']]"
   ]
  },
  {
   "cell_type": "markdown",
   "id": "a60b18a5",
   "metadata": {},
   "source": [
    "# adding a test line with a title duplicate"
   ]
  },
  {
   "cell_type": "code",
   "execution_count": 9,
   "id": "cc764390",
   "metadata": {},
   "outputs": [],
   "source": [
    "new_rows_1 = pd.DataFrame({'title':['Flowers'],'artist':['Test']})\n",
    "df = pd.concat([new_rows_1,df.loc[:]]).reset_index(drop=True)"
   ]
  },
  {
   "cell_type": "markdown",
   "id": "fecdc1ba",
   "metadata": {},
   "source": [
    "# What happens if the user inputs a song that doesn't exist?"
   ]
  },
  {
   "cell_type": "code",
   "execution_count": 21,
   "id": "55f11297",
   "metadata": {},
   "outputs": [],
   "source": [
    "def ask_input_title(df):\n",
    "    list_of_songs = list(df['title'].unique())\n",
    "    list_of_songs = [x.lower() for x in list_of_songs]\n",
    "    while True:\n",
    "        prompt = input(f'enter a song title of the Top100: ')\n",
    "        if (prompt.lower() not in list_of_songs):\n",
    "            print(f'Your choice is not in the Top100. Try another one :)')\n",
    "        else:\n",
    "            options = df.loc[(df['title'] == prompt.title()),['artist']]\n",
    "            options = options['artist'].tolist()\n",
    "            options = [x.lower() for x in options]\n",
    "            clarification = input(f' Your song might be in the list. Please state which artist you are referring to:')\n",
    "            if (clarification.lower() not in options):\n",
    "                print(f' Your combination of song title {prompt.title()} and artist {clarification.title()} is not in the Top 100')\n",
    "                break\n",
    "            else:\n",
    "                print('Your Song is in the Top100 List :)')\n",
    "                return prompt.title()"
   ]
  },
  {
   "cell_type": "markdown",
   "id": "e04f312f",
   "metadata": {},
   "source": [
    "def ask_input_title(df):\n",
    "    list_of_songs = list(df['title'].unique())\n",
    "    list_of_songs = [x.lower() for x in list_of_songs]\n",
    "    while True:\n",
    "        prompt = input(f'enter a song title of the Top100: ')\n",
    "        if (prompt.lower() not in list_of_songs):\n",
    "            print(f'Your choice is not in the Top100. Try another one :)')\n",
    "        else:\n",
    "            if (df['title'] == prompt.title()).sum() == 1:\n",
    "                clarification = input(f' Your song might be in the list. Please state which artist you are referring to:')\n",
    "                \n",
    "            elif (df['title'] == prompt.title()).sum() > 1:\n",
    "                print('There are multiple artists in the Top100 for your song title choice.')\n",
    "                artist_input = input(f' Please specify the artist that sang your song:')\n",
    "                options = df.loc[(df['title'] == prompt.title()),['artist']]\n",
    "                options = options['artist'].tolist()\n",
    "                options = [x.lower() for x in options]\n",
    "                if (artist_input.lower() not in options):\n",
    "                    print(f' Your combination of song title {prompt.title()} and artist {artist_input.title()} is not in the Top 100')\n",
    "                    break\n",
    "                else:\n",
    "                    print('Your Song is in the Top100 List :)')\n",
    "                    return prompt.title()\n",
    "            else:\n",
    "                print('Your Song is in the Top100 List :)')\n",
    "                return prompt.title()"
   ]
  },
  {
   "cell_type": "code",
   "execution_count": null,
   "id": "52322089",
   "metadata": {},
   "outputs": [],
   "source": []
  },
  {
   "cell_type": "code",
   "execution_count": 22,
   "id": "1ef4649d",
   "metadata": {
    "scrolled": true
   },
   "outputs": [
    {
     "name": "stdout",
     "output_type": "stream",
     "text": [
      "                             title                                          artist\n",
      "0                          Flowers                                            Test\n",
      "1                          Flowers                                     Miley Cyrus\n",
      "2                        Kill Bill                                             SZA\n",
      "3                       Last Night                                   Morgan Wallen\n",
      "4                           Unholy                          Sam Smith & Kim Petras\n",
      "5                         Creepin'            Metro Boomin, The Weeknd & 21 Savage\n",
      "6                          Cuff It                                         Beyonce\n",
      "7                        Anti-Hero                                    Taylor Swift\n",
      "8                      Die For You                                      The Weeknd\n",
      "9                  I'm Good (Blue)                       David Guetta & Bebe Rexha\n",
      "10                       As It Was                                    Harry Styles\n",
      "11                       Rich Flex                               Drake & 21 Savage\n",
      "12                 Just Wanna Rock                                    Lil Uzi Vert\n",
      "13         Thought You Should Know                                   Morgan Wallen\n",
      "14             Boy's A Liar, Pt. 2                      PinkPantheress & Ice Spice\n",
      "15                   Made You Look                                  Meghan Trainor\n",
      "16             Under The Influence                                     Chris Brown\n",
      "17                     Golden Hour                                            JVKE\n",
      "18                       You Proof                                   Morgan Wallen\n",
      "19           Rock And A Hard Place                                Bailey Zimmerman\n",
      "20         Something In The Orange                                      Zach Bryan\n",
      "21                       Thank God                   Kane Brown With Katelyn Brown\n",
      "22                       Bad Habit                                      Steve Lacy\n",
      "23              Going, Going, Gone                                      Luke Combs\n",
      "24                        Escapism                        RAYE Featuring 070 Shake\n",
      "25   Superhero (Heroes & Villains)              Metro Boomin, Future & Chris Brown\n",
      "26                   Lavender Haze                                    Taylor Swift\n",
      "27                       Calm Down                             Rema & Selena Gomez\n",
      "28                         Players                                       Coi Leray\n",
      "29                           Shirt                                             SZA\n",
      "30                      Sure Thing                                          Miguel\n",
      "31        The Kind Of Love We Make                                      Luke Combs\n",
      "32              Heart Like A Truck                                   Lainey Wilson\n",
      "33    Bzrp Music Sessions, Vol. 53                              Bizarrap & Shakira\n",
      "34                          Snooze                                             SZA\n",
      "35               Until I Found You                                 Stephen Sanchez\n",
      "36                      Wait For U                   Future Featuring Drake & Tems\n",
      "37     I Like You (A Happier Song)                  Post Malone Featuring Doja Cat\n",
      "38                I Wrote The Book                                   Morgan Wallen\n",
      "39                       Bebe Dame                  Fuerza Regida X Grupo Frontera\n",
      "40                      Tomorrow 2                              GloRilla & Cardi B\n",
      "41                 About Damn Time                                           Lizzo\n",
      "42               Wait In The Truck                   HARDY Featuring Lainey Wilson\n",
      "43    She Had Me At Heads Carolina                                   Cole Swindell\n",
      "44                  Nobody Gets Me                                             SZA\n",
      "45      What My World Spins Around                                    Jordan Davis\n",
      "46                     Unstoppable                                             Sia\n",
      "47             One Thing At A Time                                   Morgan Wallen\n",
      "48                  Whiskey On You                                      Nate Smith\n",
      "49                           Dawns              Zach Bryan Featuring Maggie Rogers\n",
      "50                      Love Again                                   The Kid LAROI\n",
      "51               Everything I Love                                   Morgan Wallen\n",
      "52                      Lift Me Up                                         Rihanna\n",
      "53                     Que Vuelvas                     Carin Leon X Grupo Frontera\n",
      "54                             Low                                             SZA\n",
      "55                Tennessee Orange                                   Megan Moroney\n",
      "56                   X Si Volvemos                          Karol G x Romeo Santos\n",
      "57                     Bloody Mary                                       Lady Gaga\n",
      "58                   Handle On You                                 Parker McCollum\n",
      "59               What He Didn't Do                                    Carly Pearce\n",
      "60                       Freestyle                                        Lil Baby\n",
      "61                     Wild As Her                                      Corey Kent\n",
      "62                     Spin Bout U                               Drake & 21 Savage\n",
      "63                      You Didn't                                     Brett Young\n",
      "64      Growin' Up And Gettin' Old                                      Luke Combs\n",
      "65                        Nonsense                               Sabrina Carpenter\n",
      "66                    Here With Me                                            d4vd\n",
      "67                The Color Violet                                      Tory Lanez\n",
      "68                             AMG  Gabito Ballesteros, Peso Pluma & Natanael Cano\n",
      "69                           10:35                     Tiesto Featuring Tate McRae\n",
      "70                      La Bachata                                   Manuel Turizo\n",
      "71                       Forget Me                                   Lewis Capaldi\n",
      "72         Shut Up My Moms Calling                                      Hotel Ugly\n",
      "73                           Blind                                             SZA\n",
      "74                             OMG                                        NewJeans\n",
      "75                        No Se Va                                  Grupo Frontera\n",
      "76                 Love You Better                                          Future\n",
      "77                        La Jumpa                            Arcangel & Bad Bunny\n",
      "78                             PRC                      Peso Pluma X Natanael Cano\n",
      "79        That's What Tequila Does                                    Jason Aldean\n",
      "80                   Love Language                                             SZA\n",
      "81                   Tennessee Fan                                   Morgan Wallen\n",
      "82                           Ditto                                        NewJeans\n",
      "83            Watch The World Burn                              Falling In Reverse\n",
      "84                           Human                                    Cody Johnson\n",
      "85                      In Ha Mood                                       Ice Spice\n",
      "86                        Back End                                   Finesse2Tymes\n",
      "87                     Do It Again                              NLE Choppa & 2Rare\n",
      "88                         Hey Mor                            Ozuna Featuring Feid\n",
      "89                 Too Many Nights     Metro Boomin Featuring Don Toliver & Future\n",
      "90            Ghost In The Machine                   SZA Featuring Phoebe Bridgers\n",
      "91                   Fin de Semana                         Junior H X Oscar Maydon\n",
      "92                            Snap                                       Rosa Linn\n",
      "93               California Breeze                                        Lil Baby\n",
      "94    I'm Not Here To Make Friends                                       Sam Smith\n",
      "95                   Gato de Noche                          Nengo Flow & Bad Bunny\n",
      "96                      Yandel 150                                   Yandel & Feid\n",
      "97                  Heart To Heart                                     Mac DeMarco\n",
      "98             Next Thing You Know                                    Jordan Davis\n",
      "99     Never Gonna Not Dance Again                                            P!nk\n",
      "100                      Open Arms                      SZA Featuring Travis Scott\n"
     ]
    }
   ],
   "source": [
    "print(df.to_string())"
   ]
  },
  {
   "cell_type": "code",
   "execution_count": 24,
   "id": "f8c9e964",
   "metadata": {
    "scrolled": true
   },
   "outputs": [
    {
     "name": "stdout",
     "output_type": "stream",
     "text": [
      "enter a song title of the Top100: flowers\n",
      " Your song might be in the list. Please state which artist you are referring to:qwe\n",
      " Your combination of song title Flowers and artist Qwe is not in the Top 100\n"
     ]
    }
   ],
   "source": [
    "ask_input_title(df)"
   ]
  },
  {
   "cell_type": "markdown",
   "id": "3f7f89fa",
   "metadata": {},
   "source": [
    "# Architecture:\n",
    "## Do we build the interaction with the user in the same notebook as the web-scraping?\n",
    "\n",
    "No we're not build the user interaction in the same notebook to avoid wasting time on occasional reloading of the code and thus web-scraping multiple times.\n",
    "\n",
    "## Where do we store the scraped songs?\n",
    "\n",
    "We store the scraped songs in a dataframe and export it to a .csv so we can load that file in another jupyter notebook and work with it."
   ]
  },
  {
   "cell_type": "code",
   "execution_count": null,
   "id": "bfd98210",
   "metadata": {},
   "outputs": [],
   "source": []
  }
 ],
 "metadata": {
  "kernelspec": {
   "display_name": "Python 3 (ipykernel)",
   "language": "python",
   "name": "python3"
  },
  "language_info": {
   "codemirror_mode": {
    "name": "ipython",
    "version": 3
   },
   "file_extension": ".py",
   "mimetype": "text/x-python",
   "name": "python",
   "nbconvert_exporter": "python",
   "pygments_lexer": "ipython3",
   "version": "3.9.13"
  }
 },
 "nbformat": 4,
 "nbformat_minor": 5
}
